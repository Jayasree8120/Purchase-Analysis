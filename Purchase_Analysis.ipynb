{
  "nbformat": 4,
  "nbformat_minor": 0,
  "metadata": {
    "colab": {
      "provenance": [],
      "authorship_tag": "ABX9TyOkN2APd5MXS8MLKBLinX6Z",
      "include_colab_link": true
    },
    "kernelspec": {
      "name": "python3",
      "display_name": "Python 3"
    },
    "language_info": {
      "name": "python"
    }
  },
  "cells": [
    {
      "cell_type": "markdown",
      "metadata": {
        "id": "view-in-github",
        "colab_type": "text"
      },
      "source": [
        "<a href=\"https://colab.research.google.com/github/Jayasree8120/Purchase-Analysis/blob/main/Purchase_Analysis.ipynb\" target=\"_parent\"><img src=\"https://colab.research.google.com/assets/colab-badge.svg\" alt=\"Open In Colab\"/></a>"
      ]
    },
    {
      "cell_type": "markdown",
      "source": [
        "### **Downloading the Data**"
      ],
      "metadata": {
        "id": "JJ1yQIies4Oe"
      }
    },
    {
      "cell_type": "code",
      "execution_count": null,
      "metadata": {
        "id": "_wMLEbsTqEHT"
      },
      "outputs": [],
      "source": [
        "import pandas as pd\n",
        "import numpy as np\n",
        "from sklearn.model_selection import train_test_split\n",
        "from sklearn.preprocessing import StandardScaler\n",
        "from sklearn.linear_model import LogisticRegression\n",
        "from sklearn.metrics import confusion_matrix, classification_report\n",
        "import seaborn as sns\n",
        "import matplotlib.pyplot as plt\n",
        "from sklearn.preprocessing import OrdinalEncoder\n",
        "from sklearn.cluster import KMeans\n",
        "from tabulate import tabulate\n",
        "\n",
        "\n",
        "import warnings\n",
        "warnings.simplefilter(\"ignore\")"
      ]
    },
    {
      "cell_type": "code",
      "source": [
        "# Importing datasets\n",
        "\n",
        "# Loading the China dataset\n",
        "china_df = pd.read_excel('/content/CN_Mobiles+-+Data.xlsx')\n",
        "\n",
        "# # Loading the India dataset\n",
        "# india_df = pd.read_excel(\"/content/IN_Mobiles+-+Data.xlsx\")"
      ],
      "metadata": {
        "id": "hhi69JDetdDx"
      },
      "execution_count": null,
      "outputs": []
    },
    {
      "cell_type": "markdown",
      "source": [
        "### **Preprocessing and Feature Engineering**"
      ],
      "metadata": {
        "id": "WJ5M2Q87zbnl"
      }
    },
    {
      "cell_type": "code",
      "source": [
        "# Retrieves and display the dimensions of the China dataset\n",
        "num_rows, num_columns = china_df.shape; print(f'China_df_Rows: {num_rows}, China_df_Columns: {num_columns}')\n",
        "\n",
        "# Retrieves and display the dimensions of the India dataset\n",
        "num_rows, num_columns = india_df.shape; print(f'India_df_Rows: {num_rows}, India_df_Columns: {num_columns}')"
      ],
      "metadata": {
        "id": "gczoqAn0tdAu"
      },
      "execution_count": null,
      "outputs": []
    },
    {
      "cell_type": "code",
      "source": [
        " china_df['PURCHASE'].value_counts(normalize=True)"
      ],
      "metadata": {
        "id": "ZLsMA_FIe2sF"
      },
      "execution_count": null,
      "outputs": []
    },
    {
      "cell_type": "code",
      "source": [
        "# Display the first 5 records of the China dataset\n",
        "print(\"The first 5 records of the China dataset :\")\n",
        "display(china_df.head())\n",
        "\n",
        "\n",
        "# Print an empty line for spacing\n",
        "print()\n",
        "\n",
        "# Display the first 5 records of the India dataset\n",
        "print(\"The first 5 records of the India dataset :\")\n",
        "display(india_df.head())"
      ],
      "metadata": {
        "id": "YdkUNjqztc-V"
      },
      "execution_count": null,
      "outputs": []
    },
    {
      "cell_type": "code",
      "source": [
        "# Shows data types and non-null counts for the China dataset\n",
        "print(\"Information about China Dataset :\")\n",
        "china_df.info()\n",
        "\n",
        "# Print an empty line for spacing\n",
        "print()\n",
        "\n",
        "# Shows data types and non-null counts for the India dataset\n",
        "print(\"Information about India Dataset :\")\n",
        "india_df.info()"
      ],
      "metadata": {
        "id": "Te1lmFThtc51"
      },
      "execution_count": null,
      "outputs": []
    },
    {
      "cell_type": "code",
      "source": [
        "# Generates and display a statistical summary of the China dataset\n",
        "print(\"Statistical Data about China Dataset :\")\n",
        "display(china_df.describe())\n",
        "\n",
        "# Print an empty line for spacing\n",
        "print()\n",
        "\n",
        "# Generates and display a statistical summary of the India dataset\n",
        "print(\"Statistical Data about India Dataset :\")\n",
        "display(india_df.describe())"
      ],
      "metadata": {
        "id": "LKp6OQbWtc71"
      },
      "execution_count": null,
      "outputs": []
    },
    {
      "cell_type": "markdown",
      "source": [
        "**Data Quality Check**"
      ],
      "metadata": {
        "id": "1Ahq0qHi2YP1"
      }
    },
    {
      "cell_type": "code",
      "source": [
        "# Count missing values in each column of the China dataset\n",
        "print(\"Missing Values in China Dataset :\")\n",
        "print(china_df.isnull().sum())\n",
        "\n",
        "# Print an empty line for spacing\n",
        "print()\n",
        "\n",
        "# Count missing values in each column of the India dataset\n",
        "print(\"Missing Values in India Dataset :\")\n",
        "print(india_df.isnull().sum())"
      ],
      "metadata": {
        "id": "NQEVoGJ2tc3Z"
      },
      "execution_count": null,
      "outputs": []
    },
    {
      "cell_type": "code",
      "source": [
        "# Check for any duplicate rows in the China dataset\n",
        "print(f\"Duplicates in China Dataset : {china_df.duplicated().any()}\")\n",
        "\n",
        "# Print an empty line for spacing\n",
        "print()\n",
        "\n",
        "# Check for any duplicate rows in the India dataset\n",
        "print(f\"Duplicates in India Dataset : {india_df.duplicated().any()}\")"
      ],
      "metadata": {
        "id": "GOGz8q5_tc1Q"
      },
      "execution_count": null,
      "outputs": []
    },
    {
      "cell_type": "markdown",
      "source": [
        "**Categorizing Data Columns**"
      ],
      "metadata": {
        "id": "Owu7BZoB4oDK"
      }
    },
    {
      "cell_type": "code",
      "source": [
        "# Convert the Purchase_Date column to datetime format for accurate calculations for the India dataset\n",
        "india_df['DT_OLD_PURCHASE'] = pd.to_datetime(india_df['DT_OLD_PURCHASE'])\n",
        "# Define a given date for calculating the age of the phones\n",
        "given_date = pd.to_datetime('2019-07-07')\n",
        "# Calculate the age of the phones in days and store in a new column\n",
        "india_df['AGE_PHN'] = (given_date - india_df['DT_OLD_PURCHASE']).dt.days\n",
        "# Remove the original Purchase Date column as it's no longer needed\n",
        "revised_india_df = india_df.drop('DT_OLD_PURCHASE', axis=1)"
      ],
      "metadata": {
        "id": "MXO5jo0WExSN"
      },
      "execution_count": null,
      "outputs": []
    },
    {
      "cell_type": "code",
      "source": [
        "def categorize_data(df, gender_column, income_column, age_column, phone_age_column):\n",
        "\n",
        "    # Map gender values 'M' and 'F' to 0 and 1, respectively\n",
        "    df['GENDER_CATEGORIZE'] = df[gender_column].map({'M': 0, 'F': 1})\n",
        "\n",
        "    # Categorize income into segments\n",
        "    df['INCOME_CATEGORIZE'] = df[income_column].apply(\n",
        "        lambda income: 0 if income < 300000 else\n",
        "                       1 if 300000 <= income < 800000 else\n",
        "                       2 if 800000 <= income < 1200000 else\n",
        "                       3\n",
        "    )\n",
        "\n",
        "    # Categorize current age into segments\n",
        "    df['AGE_CATEGORIZE'] = df[age_column].apply(\n",
        "        lambda age: 0 if age < 25 else\n",
        "                    1 if 25 <= age < 35 else\n",
        "                    2 if 35 <= age < 65 else\n",
        "                    3\n",
        "    )\n",
        "\n",
        "    # Categorize phone age into segments\n",
        "    df['PHONE_AGE_CATEGORIZE'] = df[phone_age_column].apply(\n",
        "        lambda phone_age: 0 if phone_age < 100 else\n",
        "                          1 if 100 <= phone_age < 400 else\n",
        "                          2 if 400 <= phone_age < 700 else\n",
        "                          3\n",
        "    )\n",
        "\n",
        "    return df"
      ],
      "metadata": {
        "id": "jVHgSpwitcyn"
      },
      "execution_count": null,
      "outputs": []
    },
    {
      "cell_type": "code",
      "source": [
        "# Apply the function to the China dataset\n",
        "modified_china_df = categorize_data(\n",
        "    df=china_df,\n",
        "    gender_column='GENDER',\n",
        "    income_column='ANN_INCOME',\n",
        "    age_column='CURR_AGE',\n",
        "    phone_age_column='AGE_PHN'\n",
        ")\n",
        "\n",
        "# Apply the function to the India dataset\n",
        "modified_india_df = categorize_data(\n",
        "    df=revised_india_df,\n",
        "    gender_column='GENDER',\n",
        "    income_column='ANN_INCOME',\n",
        "    age_column='CURR_AGE',\n",
        "    phone_age_column='AGE_PHN'\n",
        ")"
      ],
      "metadata": {
        "id": "FW8B_d5sFGZT"
      },
      "execution_count": null,
      "outputs": []
    },
    {
      "cell_type": "code",
      "source": [
        "# Display the modified China dataset\n",
        "print(\"China Dataset Modified:\")\n",
        "display(modified_china_df.head())\n",
        "\n",
        "print()\n",
        "\n",
        "# Display the modified India dataset\n",
        "print(\"India Dataset Modified:\")\n",
        "display(modified_india_df.head())"
      ],
      "metadata": {
        "id": "me4sCCbSFQ3h"
      },
      "execution_count": null,
      "outputs": []
    },
    {
      "cell_type": "markdown",
      "source": [
        "### **Exploratory Data Analysis**"
      ],
      "metadata": {
        "id": "-1r3u76D1fa1"
      }
    },
    {
      "cell_type": "markdown",
      "source": [
        "**Univariate Charts**\n",
        "\n",
        "1.    **Histogram**\n",
        "\n",
        "\n",
        "\n",
        "\n"
      ],
      "metadata": {
        "id": "iGzD09_O1wy-"
      }
    },
    {
      "cell_type": "code",
      "source": [
        "# Normal Histogram for Current Age in India Dataset\n",
        "sns.histplot(data=modified_india_df, x='CURR_AGE',bins=10,  kde=True)\n",
        "plt.title('Distribution of Current Age in India Dataset')\n",
        "plt.xlabel('Current Age')\n",
        "plt.ylabel('Count')\n",
        "plt.show()\n",
        "\n",
        "# Normal Histogram for Current Age in China Dataset\n",
        "sns.histplot(data=modified_china_df, x='CURR_AGE',bins=10, kde=True)\n",
        "plt.title('Distribution of Current Age in China Dataset')\n",
        "plt.xlabel('Current Age')\n",
        "plt.ylabel('Count')\n",
        "plt.show()"
      ],
      "metadata": {
        "id": "ZwRypww3y7qs"
      },
      "execution_count": null,
      "outputs": []
    },
    {
      "cell_type": "markdown",
      "source": [
        "\n",
        "\n",
        "2.   **Box Plot**\n",
        "\n",
        "\n",
        "\n",
        "\n",
        "\n"
      ],
      "metadata": {
        "id": "YGYlTYMX3mHc"
      }
    },
    {
      "cell_type": "code",
      "source": [
        "# Box Plot for Annual Income in China Dataset\n",
        "sns.boxplot(data=modified_china_df, x='ANN_INCOME')\n",
        "plt.title('Box Plot of Annual Income in China Dataset')\n",
        "plt.xlabel('Annual Income')\n",
        "plt.show()\n",
        "\n",
        "# Box Plot for Annual Income in India Dataset\n",
        "sns.boxplot(data=modified_india_df, x='ANN_INCOME')\n",
        "plt.title('Box Plot of Annual Income in India Dataset')\n",
        "plt.xlabel('Annual Income')\n",
        "plt.show()"
      ],
      "metadata": {
        "id": "9OW-LPex2yEh"
      },
      "execution_count": null,
      "outputs": []
    },
    {
      "cell_type": "markdown",
      "source": [
        "\n",
        "\n",
        "3.  **Count Plot**\n",
        "\n",
        "\n"
      ],
      "metadata": {
        "id": "XpZazime39ST"
      }
    },
    {
      "cell_type": "code",
      "source": [
        "# Count Plot for Gender in China Dataset\n",
        "sns.countplot(data=modified_china_df, x='GENDER')\n",
        "plt.title('Count of Genders in China Dataset')\n",
        "plt.xlabel('Gender')\n",
        "plt.ylabel('Count')\n",
        "plt.show()\n",
        "\n",
        "# Count Plot for Gender in India Dataset\n",
        "sns.countplot(data=modified_india_df, x='GENDER')\n",
        "plt.title('Count of Genders in India Dataset')\n",
        "plt.xlabel('Gender')\n",
        "plt.ylabel('Count')\n",
        "plt.show()"
      ],
      "metadata": {
        "id": "izo6Sanc24VP"
      },
      "execution_count": null,
      "outputs": []
    },
    {
      "cell_type": "markdown",
      "source": [
        "**Bivariate Charts**\n",
        "\n",
        "1.  **Line Plot**\n",
        "\n"
      ],
      "metadata": {
        "id": "l581OBzV4mbF"
      }
    },
    {
      "cell_type": "code",
      "source": [
        "# Line Plot for Average Annual Income by Current Age in China Dataset\n",
        "sns.lineplot(data=modified_china_df, x='CURR_AGE', y='ANN_INCOME', estimator='mean')\n",
        "plt.title('Average Annual Income by Current Age in China Dataset')\n",
        "plt.xlabel('Current Age')\n",
        "plt.ylabel('Average Annual Income')\n",
        "plt.show()\n",
        "\n",
        "# Line Plot for Average Annual Income by Current Age in India Dataset\n",
        "sns.lineplot(data=modified_india_df, x='CURR_AGE', y='ANN_INCOME', estimator='mean')\n",
        "plt.title('Average Annual Income by Current Age in India Dataset')\n",
        "plt.xlabel('Current Age')\n",
        "plt.ylabel('Average Annual Income')\n",
        "plt.show()"
      ],
      "metadata": {
        "id": "yW3harlZ694S"
      },
      "execution_count": null,
      "outputs": []
    },
    {
      "cell_type": "markdown",
      "source": [
        "\n",
        "\n",
        "\n",
        "2.   **Box Plot**\n",
        "\n"
      ],
      "metadata": {
        "id": "qB92sWXr9xqT"
      }
    },
    {
      "cell_type": "code",
      "source": [
        "# Box Plot for Current Age by Gender in China Dataset\n",
        "sns.boxplot(data=modified_china_df, x='GENDER', y='CURR_AGE')\n",
        "plt.title('Current Age Distribution by Gender in China Dataset')\n",
        "plt.xlabel('Gender')\n",
        "plt.ylabel('Current Age')\n",
        "plt.show()\n",
        "\n",
        "# Box Plot for Current Age by Gender in India Dataset\n",
        "sns.boxplot(data=modified_india_df, x='GENDER', y='CURR_AGE')\n",
        "plt.title('Current Age Distribution by Gender in India Dataset')\n",
        "plt.xlabel('Gender')\n",
        "plt.ylabel('Current Age')\n",
        "plt.show()"
      ],
      "metadata": {
        "id": "FO-5CeiV691-"
      },
      "execution_count": null,
      "outputs": []
    },
    {
      "cell_type": "markdown",
      "source": [
        "### **China Dataset: Model Training and Evaluation**"
      ],
      "metadata": {
        "id": "_W8Vg-kU_QPX"
      }
    },
    {
      "cell_type": "markdown",
      "source": [
        "**Input and Target Columns**"
      ],
      "metadata": {
        "id": "nkxWmVDf97La"
      }
    },
    {
      "cell_type": "code",
      "source": [
        "# Preprocess the China Dataset for model input by selecting relevant features\n",
        "X = modified_china_df[['AGE_CATEGORIZE', 'GENDER_CATEGORIZE', 'INCOME_CATEGORIZE', 'PHONE_AGE_CATEGORIZE']]\n",
        "\n",
        "# Define the target variable for the model\n",
        "y = modified_china_df['PURCHASE']\n",
        "\n",
        "# Split the dataset into training and validation sets\n",
        "# 70% of the data will be used for training, and 30% for testing\n",
        "X_train, X_test, y_train, y_test = train_test_split(X, y,\n",
        "                                                        test_size=0.3,\n",
        "                                                        random_state=42)"
      ],
      "metadata": {
        "id": "RyGUg-wntcnJ"
      },
      "execution_count": null,
      "outputs": []
    },
    {
      "cell_type": "markdown",
      "source": [
        "**Train and Prediction**"
      ],
      "metadata": {
        "id": "X_szQ3tXGyMF"
      }
    },
    {
      "cell_type": "code",
      "source": [
        "# Train the Logistic Regression model using the training data\n",
        "\n",
        "# Initialize the Logistic Regression model\n",
        "model = LogisticRegression()\n",
        "\n",
        "# Fit the model to the training data\n",
        "model.fit(X_train, y_train)\n",
        "\n",
        "# Make predictions using the trained model on the test data\n",
        "y_test_pred = model.predict(X_test)"
      ],
      "metadata": {
        "id": "u-2atGYRtck3"
      },
      "execution_count": null,
      "outputs": []
    },
    {
      "cell_type": "markdown",
      "source": [
        "**Evaluation**"
      ],
      "metadata": {
        "id": "L7_2J8a2HGmr"
      }
    },
    {
      "cell_type": "code",
      "source": [
        "# Evaluate the model performance using a confusion matrix\n",
        "\n",
        "# Calculate the confusion matrix using the true labels and predicted values\n",
        "conf_matrix = confusion_matrix(y_test, y_test_pred)\n",
        "\n",
        "# Print the confusion matrix for inspection\n",
        "print(\"Confusion Matrix (Test):\\n\", conf_matrix)\n",
        "\n",
        "# Print the classification report to evaluate precision, recall, and F1-score\n",
        "print(\"\\nClassification Report (Test):\\n\", classification_report(y_test, y_test_pred))\n",
        "\n",
        "# Plotting the confusion matrix for a visual representation\n",
        "# Set the figure size for the plot\n",
        "plt.figure(figsize=(8, 6))\n",
        "\n",
        "# Create a heatmap to visualize the confusion matrix\n",
        "sns.heatmap(conf_matrix, annot=True, fmt='d', cmap='Blues')\n",
        "            # xticklabels=['Class 0', 'Class 1'], yticklabels=['Class 0', 'Class 1'])\n",
        "\n",
        "# Label the y-axis as 'Actual' for clarity\n",
        "plt.ylabel('Actual')\n",
        "# Label the x-axis as 'Predicted' for clarity\n",
        "plt.xlabel('Predicted')\n",
        "# Add a title to the plot for context\n",
        "plt.title('Confusion Matrix (Test)')\n",
        "# Display the plot\n",
        "plt.show()"
      ],
      "metadata": {
        "id": "d1o9-Uf4tcip"
      },
      "execution_count": null,
      "outputs": []
    },
    {
      "cell_type": "markdown",
      "source": [
        "**Feature Importance**"
      ],
      "metadata": {
        "id": "cogcmdtGHYZO"
      }
    },
    {
      "cell_type": "code",
      "source": [
        "# Get the coefficients of the features from the trained Logistic Regression model\n",
        "coefficients = model.coef_[0]\n",
        "\n",
        "# Create a DataFrame to represent feature importance\n",
        "feature_importance = pd.DataFrame({'Feature': X_train.columns, 'Coefficient': coefficients})\n",
        "\n",
        "# Calculate the absolute importance of each feature\n",
        "feature_importance['Importance'] = feature_importance['Coefficient'].abs()\n",
        "\n",
        "# Sort the features by importance in descending order\n",
        "feature_importance = feature_importance.sort_values(by='Importance', ascending=False)\n",
        "\n",
        "# Display the feature importance DataFrame for review\n",
        "display(feature_importance)\n",
        "\n",
        "# Plotting the feature importance\n",
        "plt.figure(figsize=(10, 6))\n",
        "\n",
        "# Create a bar plot for feature importance\n",
        "sns.barplot(x='Importance', y='Feature', data=feature_importance, palette='viridis')\n",
        "\n",
        "# Add a title to the plot\n",
        "plt.title('Feature Importance from Logistic Regression')\n",
        "\n",
        "# Label the x-axis as 'Importance (Absolute Coefficient)' for clarity\n",
        "plt.xlabel('Importance (Absolute Coefficient)')\n",
        "\n",
        "# Label the y-axis as 'Features' for clarity\n",
        "plt.ylabel('Features')\n",
        "\n",
        "# Display the plot\n",
        "plt.show()"
      ],
      "metadata": {
        "id": "nHUPw4d_tceE"
      },
      "execution_count": null,
      "outputs": []
    },
    {
      "cell_type": "code",
      "source": [
        "# Get the coefficients and intercept\n",
        "coefficients = model.coef_[0]\n",
        "intercept = model.intercept_[0]\n",
        "\n",
        "# Create a DataFrame for the coefficients and variable names\n",
        "feature_names = X_train.columns\n",
        "coeff_df = pd.DataFrame({\n",
        "    'Variable': feature_names,\n",
        "    'Coefficient': coefficients\n",
        "})\n",
        "\n",
        "# Add the intercept as a row\n",
        "coeff_df.loc[-1] = ['Intercept', intercept]\n",
        "coeff_df.index = coeff_df.index + 1\n",
        "coeff_df = coeff_df.sort_index()\n",
        "\n",
        "# Define interpretations for each variable\n",
        "interpretations = {\n",
        "    \"Intercept\": \"\",\n",
        "    \"AGE_CATEGORIZE\": \"As the customer falls into an older age category, the probability of buying a new phone decreases.\",\n",
        "    \"GENDER_CATEGORIZE\": \"If the customer is female, the probability of buying a new phone is lower.\",\n",
        "    \"INCOME_CATEGORIZE\": \"As the customer falls into a higher income category, they are more likely to buy a new phone.\",\n",
        "    \"PHONE_AGE_CATEGORIZE\": \"As the phone gets older, the customer is significantly more likely to buy a new phone.\"\n",
        "}\n",
        "\n",
        "# Add the interpretations to the DataFrame\n",
        "coeff_df['Interpretation'] = coeff_df['Variable'].map(interpretations)\n",
        "\n",
        "# Print the DataFrame as a formatted table without index\n",
        "print(tabulate(coeff_df, headers='keys', tablefmt='grid', stralign='center', numalign='center', showindex=False))"
      ],
      "metadata": {
        "id": "QB2UwWcFVWp2"
      },
      "execution_count": null,
      "outputs": []
    },
    {
      "cell_type": "markdown",
      "source": [
        "### **India Dataset: Model Training and Evaluation**"
      ],
      "metadata": {
        "id": "PNjjSR1fHtN7"
      }
    },
    {
      "cell_type": "markdown",
      "source": [
        "**Training and Prediction**"
      ],
      "metadata": {
        "id": "EGBbSwFdIIgN"
      }
    },
    {
      "cell_type": "code",
      "source": [
        "# Preprocess the test data by selecting relevant features for model input\n",
        "validation_df = modified_india_df[['AGE_CATEGORIZE', 'GENDER_CATEGORIZE', 'INCOME_CATEGORIZE', 'PHONE_AGE_CATEGORIZE']]\n",
        "\n",
        "# Make predictions on the preprocessed test data\n",
        "y_test_pred = model.predict(validation_df)\n",
        "\n",
        "# Add the predicted purchase outcomes to the modified India DataFrame\n",
        "modified_india_df['PURCHASE'] = y_test_pred\n",
        "\n",
        "modified_india_df.head()"
      ],
      "metadata": {
        "id": "_pSFu4x8tccD"
      },
      "execution_count": null,
      "outputs": []
    },
    {
      "cell_type": "markdown",
      "source": [
        "### **Clustering**"
      ],
      "metadata": {
        "id": "QWu2jmciJmGu"
      }
    },
    {
      "cell_type": "markdown",
      "source": [
        "**Potential Customer Dataset**"
      ],
      "metadata": {
        "id": "LXH6cN43KGEq"
      }
    },
    {
      "cell_type": "code",
      "source": [
        "# Select relevant columns for further analysis: Current Age, Annual Income, Phone Age and Purchase\n",
        "df_potential_customers = modified_india_df[['CURR_AGE', 'ANN_INCOME', 'AGE_PHN', 'PURCHASE']]\n",
        "\n",
        "# Display the first few rows of the potential customers DataFrame\n",
        "df_potential_customers.head()"
      ],
      "metadata": {
        "id": "L94d6WXCtcZ6"
      },
      "execution_count": null,
      "outputs": []
    },
    {
      "cell_type": "markdown",
      "source": [
        "**Scaling & Standardization**"
      ],
      "metadata": {
        "id": "UKtWc59kKeYo"
      }
    },
    {
      "cell_type": "code",
      "source": [
        "# Initialize the StandardScaler for scaling and standardizing the data\n",
        "scaler = StandardScaler()\n",
        "\n",
        "# Fit the scaler to the potential customers DataFrame and transform the data\n",
        "scaled_data = scaler.fit_transform(df_potential_customers)"
      ],
      "metadata": {
        "id": "SBEit3hltcWA"
      },
      "execution_count": null,
      "outputs": []
    },
    {
      "cell_type": "markdown",
      "source": [
        "**Finding K**"
      ],
      "metadata": {
        "id": "MfWzSHe9KmZD"
      }
    },
    {
      "cell_type": "code",
      "source": [
        "# Range of K values to test\n",
        "K_values = range(2, 8)\n",
        "wcss = []\n",
        "\n",
        "# Loop over K values and fit K-Means\n",
        "for k in K_values:\n",
        "    kmeans = KMeans(n_clusters=k, random_state=42)\n",
        "    kmeans.fit(scaled_data)\n",
        "    wcss.append(kmeans.inertia_)  # WCSS is stored in inertia_\n",
        "\n",
        "# Plotting WCSS\n",
        "plt.figure(figsize=(10, 6))\n",
        "plt.plot(K_values, wcss, marker='o')\n",
        "plt.title('Elbow Method for Optimal K')\n",
        "plt.xlabel('Number of Clusters (K)')\n",
        "plt.ylabel('WCSS (Within-Cluster Sum of Squares)')\n",
        "plt.grid()\n",
        "plt.show()"
      ],
      "metadata": {
        "id": "jDp1ksCuNECo"
      },
      "execution_count": null,
      "outputs": []
    },
    {
      "cell_type": "code",
      "source": [
        "# Create KMeans model with 4 clusters and set a random state for consistency\n",
        "kmeans = KMeans(n_clusters=4, random_state=42)\n",
        "\n",
        "# Fit the KMeans model to the scaled data to find clusters\n",
        "kmeans.fit(scaled_data)\n",
        "\n",
        "# Add the cluster labels to the DataFrame of potential customers\n",
        "df_potential_customers['CLUSTER'] = kmeans.labels_\n",
        "\n",
        "# Show the first5 records with the cluster labels\n",
        "display(df_potential_customers.head())"
      ],
      "metadata": {
        "id": "6Z1uXNIvHeux"
      },
      "execution_count": null,
      "outputs": []
    },
    {
      "cell_type": "code",
      "source": [
        "# Define cluster descriptions\n",
        "cluster_descriptions = {\n",
        "    0: \"Younger, entry-level customers with lower annual incomes.\",\n",
        "    1: \"Established middle-aged professionals with high annual incomes.\",\n",
        "    2: \"Older customers with moderate to high incomes and older phones.\",\n",
        "    3: \"Experienced middle-aged customers with varied high incomes.\"\n",
        "}\n",
        "\n",
        "# Create a DataFrame from the descriptions\n",
        "cluster_summary = pd.DataFrame({\n",
        "    'CLUSTER': list(cluster_descriptions.keys()),\n",
        "    'DESCRIPTION': list(cluster_descriptions.values())\n",
        "})\n",
        "\n",
        "# Print the DataFrame as a formatted table\n",
        "print(tabulate(cluster_summary, headers='keys', tablefmt='grid', stralign='center', numalign='center',showindex=False))"
      ],
      "metadata": {
        "id": "CTuSvE7elYxh"
      },
      "execution_count": null,
      "outputs": []
    },
    {
      "cell_type": "code",
      "source": [
        "def cluster_summary(df):\n",
        "    # Group by 'CLUSTER' and calculate the required values\n",
        "    summary = df.groupby('CLUSTER').agg(\n",
        "        avg_income=('ANN_INCOME', 'mean'),\n",
        "        customers=('PURCHASE', 'count'),  # Count all customers in each cluster\n",
        "        potential_customers=('PURCHASE', lambda x: (x == 1).sum()),  # Count only those who purchased\n",
        "        total_income=('ANN_INCOME', lambda x: (x[df['PURCHASE'] == 1]).sum())\n",
        "    )\n",
        "\n",
        "    # Round the values to the nearest whole number and convert to formatted strings\n",
        "    summary['avg_income'] = summary['avg_income'].round().astype(int).apply(lambda x: f\"{x:,}\")\n",
        "    summary['total_income'] = summary['total_income'].round().astype(int).apply(lambda x: f\"{x:,}\")\n",
        "\n",
        "    # Calculate totals for potential customers and total income\n",
        "    totals = {\n",
        "        'avg_income': '',\n",
        "        'customers': summary['customers'].sum(),\n",
        "        'potential_customers': summary['potential_customers'].sum(),\n",
        "        'total_income': summary['total_income'].sum()\n",
        "    }\n",
        "\n",
        "    # Append totals as a new row in the summary DataFrame\n",
        "    summary.loc['Total'] = totals\n",
        "\n",
        "    # Display the summary in table format using tabulate\n",
        "    print(tabulate(summary, headers='keys', tablefmt='grid', numalign='center', stralign='center'))\n",
        "\n",
        "# Assuming df_potential_customers is your DataFrame with 'CLUSTER', 'ANN_INCOME', and 'PURCHASE' columns\n",
        "cluster_summary(df_potential_customers)"
      ],
      "metadata": {
        "id": "4YiIs-GWzqr7"
      },
      "execution_count": null,
      "outputs": []
    },
    {
      "cell_type": "markdown",
      "source": [
        "**Cluster EDA**"
      ],
      "metadata": {
        "id": "lP-WT0ouL-Ib"
      }
    },
    {
      "cell_type": "code",
      "source": [
        "# Create a 3D figure for visualization\n",
        "fig = plt.figure(figsize=(10, 8))\n",
        "ax = fig.add_subplot(111, projection='3d')\n",
        "\n",
        "# Scatter plot of the scaled data points, colored by their cluster\n",
        "scatter = ax.scatter(scaled_data[:, 0], scaled_data[:, 1], scaled_data[:, 2], c=df_potential_customers['CLUSTER'], cmap='viridis', s=50)\n",
        "\n",
        "# Set the title and labels for the axes\n",
        "ax.set_title('K-Means Clustering in 3D')\n",
        "ax.set_xlabel('Current Age')\n",
        "ax.set_ylabel('Annual Income')\n",
        "ax.set_zlabel('Age of Phone')\n",
        "\n",
        "# Display color legend for the clusters\n",
        "plt.colorbar(scatter, label='Cluster')\n",
        "plt.show()"
      ],
      "metadata": {
        "id": "MG2z5JEwHesk"
      },
      "execution_count": null,
      "outputs": []
    },
    {
      "cell_type": "code",
      "source": [
        "# Get the centroids of the clusters\n",
        "centroids = kmeans.cluster_centers_\n",
        "\n",
        "# Transform centroids back to the original scale for better interpretation\n",
        "centroids_original = scaler.inverse_transform(centroids)\n",
        "\n",
        "# Create a DataFrame with the centroids for clearer representation\n",
        "centroid_df = pd.DataFrame(centroids_original, columns=['CURR_AGE', 'ANN_INCOME', 'AGE_PHN','PURCHASE'])\n",
        "\n",
        "# Display the centroids for each cluster\n",
        "print(\"Centroids of the clusters:\\n\", centroid_df)  # Show the calculated centroids\n",
        "\n",
        "# Describe each cluster's data\n",
        "for cluster in range(4):  # Loop through each cluster (change to the number of clusters if different)\n",
        "    print(f\"\\nCluster {cluster} summary:\")  # Print the cluster number for reference\n",
        "    # Display descriptive statistics for the data points in the current cluster\n",
        "    display(df_potential_customers[df_potential_customers['CLUSTER'] == cluster].describe())"
      ],
      "metadata": {
        "id": "tKBy-NtkHeqr"
      },
      "execution_count": null,
      "outputs": []
    },
    {
      "cell_type": "code",
      "source": [
        "#Clustering Summary"
      ],
      "metadata": {
        "id": "fnVPnMQvKrQ1"
      },
      "execution_count": null,
      "outputs": []
    },
    {
      "cell_type": "markdown",
      "source": [
        "![image.png](data:image/png;base64,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)"
      ],
      "metadata": {
        "id": "MJXSvL7EKns2"
      }
    },
    {
      "cell_type": "markdown",
      "source": [
        "\n",
        "*  **Age and Income Distribution: Cluster 0 has the youngest average age (33) and the lowest average annual income, while Cluster 2 has the highest average age (57) with a relatively lower annual income compared to Cluster 1.**\n",
        "* **Purchase Behavior: The average AGE_PHN in Cluster 3 is the highest (851), indicating that customers in this cluster may have older phones, suggesting a potential market for upgrades.**\n",
        "\n",
        "\n",
        "\n"
      ],
      "metadata": {
        "id": "NSExY17GrspO"
      }
    },
    {
      "cell_type": "markdown",
      "source": [
        "\n",
        "\n",
        "*   **Additional Approaches Tried:**\n",
        "\n",
        "    *   Implemented predictions without categorizing the columns: Current Age, Annual Income, and Phone Age.\n",
        "    *   Experimented with standardization, ordinal encoding etc.\n",
        "    *   Converted dates into years for the Phone Age feature.\n",
        "    *   Tried an iteration Including the Gender column in the clustering process.\n",
        "\n",
        "\n",
        "\n",
        "\n",
        "\n",
        "\n",
        "\n",
        "\n",
        "\n"
      ],
      "metadata": {
        "id": "daU9jnQRhW7z"
      }
    },
    {
      "cell_type": "markdown",
      "source": [
        "Finding the best Model"
      ],
      "metadata": {
        "id": "m3nqNjHXLBTd"
      }
    },
    {
      "cell_type": "code",
      "source": [
        "# prompt: pycaret classification model code\n",
        "\n",
        "from pycaret.classification import *\n",
        "\n",
        "# df = modified_china_df[['AGE_CATEGORIZE', 'GENDER_CATEGORIZE', 'INCOME_CATEGORIZE', 'PHONE_AGE_CATEGORIZE', 'PURCHASE']]\n",
        "df= modified_china_df[['CURR_AGE', 'GENDER_CATEGORIZE','ANN_INCOME','AGE_PHN', 'PURCHASE' ]]\n",
        "\n",
        "# Initialize the setup\n",
        "clf = setup( data = df, target = 'PURCHASE')\n",
        "\n",
        "# Compare different models\n",
        "compare_models(sort='F1')"
      ],
      "metadata": {
        "id": "uFhudUfiLMN5"
      },
      "execution_count": null,
      "outputs": []
    },
    {
      "cell_type": "code",
      "source": [
        "\n",
        "best_model = create_model('xgboost')\n",
        "\n",
        "evaluate_model(best_model)\n",
        "\n",
        "plot_model(best_model, plot = 'feature')"
      ],
      "metadata": {
        "id": "kYPM37uZLxoj"
      },
      "execution_count": null,
      "outputs": []
    },
    {
      "cell_type": "code",
      "source": [
        "\n",
        "predictions = predict_model(best_model)\n",
        "\n",
        "\n",
        "from sklearn.metrics import classification_report\n",
        "\n",
        "print(classification_report(predictions['PURCHASE'], predictions['prediction_label']))"
      ],
      "metadata": {
        "id": "jcqWAhrZOJRP"
      },
      "execution_count": null,
      "outputs": []
    },
    {
      "cell_type": "code",
      "source": [
        "tuned_model = tune_model(best_model)\n",
        "\n",
        "# Evaluate the model's performance\n",
        "evaluate_model(tuned_model)\n",
        "\n",
        "plot_model(tuned_model, plot = 'feature')"
      ],
      "metadata": {
        "id": "ULrR-wwEMSWA"
      },
      "execution_count": null,
      "outputs": []
    },
    {
      "cell_type": "code",
      "source": [
        "\n",
        "\n",
        "predictions = predict_model(tuned_model)\n",
        "\n",
        "\n",
        "from sklearn.metrics import classification_report\n",
        "\n",
        "print(classification_report(predictions['PURCHASE'], predictions['prediction_label']))\n",
        "\n"
      ],
      "metadata": {
        "id": "C-ayMUXiMTCe"
      },
      "execution_count": null,
      "outputs": []
    },
    {
      "cell_type": "code",
      "source": [],
      "metadata": {
        "id": "GrtSIbZITi55"
      },
      "execution_count": null,
      "outputs": []
    }
  ]
}